{
 "cells": [
  {
   "cell_type": "code",
   "execution_count": 71,
   "id": "9c50a646-c042-4d3d-83d0-fa063f80ed0c",
   "metadata": {},
   "outputs": [],
   "source": []
  },
  {
   "cell_type": "code",
   "execution_count": 72,
   "id": "ab26957a-3008-4178-9c94-0f70014487eb",
   "metadata": {},
   "outputs": [
    {
     "name": "stdout",
     "output_type": "stream",
     "text": [
      "         Date     Client         Project  Amount ($)  Hours Worked\n",
      "0  2025-03-01  Acme Inc.  Website Revamp        1200            20\n",
      "1  2025-03-05     Globex    Data Cleanup         900            15\n",
      "2  2025-03-10  Acme Inc.      Bug Fixing         300             5\n",
      "3  2025-04-01   Umbrella    Consultation         400             4\n"
     ]
    }
   ],
   "source": [
    "data = pd.read_csv(\"invoices.csv\")\n",
    "\n",
    "print(data)"
   ]
  },
  {
   "cell_type": "code",
   "execution_count": null,
   "id": "a57b832b-5d9c-49ad-ae4e-8b297ad34461",
   "metadata": {},
   "outputs": [],
   "source": []
  },
  {
   "cell_type": "code",
   "execution_count": 90,
   "id": "80b52913-090b-4c34-9121-e757d1800e9e",
   "metadata": {},
   "outputs": [
    {
     "data": {
      "text/html": [
       "<div>\n",
       "<style scoped>\n",
       "    .dataframe tbody tr th:only-of-type {\n",
       "        vertical-align: middle;\n",
       "    }\n",
       "\n",
       "    .dataframe tbody tr th {\n",
       "        vertical-align: top;\n",
       "    }\n",
       "\n",
       "    .dataframe thead th {\n",
       "        text-align: right;\n",
       "    }\n",
       "</style>\n",
       "<table border=\"1\" class=\"dataframe\">\n",
       "  <thead>\n",
       "    <tr style=\"text-align: right;\">\n",
       "      <th></th>\n",
       "      <th>Date</th>\n",
       "      <th>Client</th>\n",
       "      <th>Project</th>\n",
       "      <th>Amount ($)</th>\n",
       "      <th>Hours Worked</th>\n",
       "      <th>Hourly Rate</th>\n",
       "    </tr>\n",
       "  </thead>\n",
       "  <tbody>\n",
       "    <tr>\n",
       "      <th>0</th>\n",
       "      <td>2025-03-01</td>\n",
       "      <td>Acme Inc.</td>\n",
       "      <td>Website Revamp</td>\n",
       "      <td>1200</td>\n",
       "      <td>20</td>\n",
       "      <td>60.0</td>\n",
       "    </tr>\n",
       "    <tr>\n",
       "      <th>1</th>\n",
       "      <td>2025-03-05</td>\n",
       "      <td>Globex</td>\n",
       "      <td>Data Cleanup</td>\n",
       "      <td>900</td>\n",
       "      <td>15</td>\n",
       "      <td>60.0</td>\n",
       "    </tr>\n",
       "    <tr>\n",
       "      <th>2</th>\n",
       "      <td>2025-03-10</td>\n",
       "      <td>Acme Inc.</td>\n",
       "      <td>Bug Fixing</td>\n",
       "      <td>300</td>\n",
       "      <td>5</td>\n",
       "      <td>60.0</td>\n",
       "    </tr>\n",
       "    <tr>\n",
       "      <th>3</th>\n",
       "      <td>2025-04-01</td>\n",
       "      <td>Umbrella</td>\n",
       "      <td>Consultation</td>\n",
       "      <td>400</td>\n",
       "      <td>4</td>\n",
       "      <td>100.0</td>\n",
       "    </tr>\n",
       "  </tbody>\n",
       "</table>\n",
       "</div>"
      ],
      "text/plain": [
       "        Date     Client         Project  Amount ($)  Hours Worked  Hourly Rate\n",
       "0 2025-03-01  Acme Inc.  Website Revamp        1200            20         60.0\n",
       "1 2025-03-05     Globex    Data Cleanup         900            15         60.0\n",
       "2 2025-03-10  Acme Inc.      Bug Fixing         300             5         60.0\n",
       "3 2025-04-01   Umbrella    Consultation         400             4        100.0"
      ]
     },
     "execution_count": 90,
     "metadata": {},
     "output_type": "execute_result"
    }
   ],
   "source": [
    "data.rename(columns=lambda x: x.strip(), inplace=True)\n",
    "data"
   ]
  },
  {
   "cell_type": "code",
   "execution_count": 108,
   "id": "136ddbba-5673-463c-b64d-3aac36fa5eb3",
   "metadata": {},
   "outputs": [
    {
     "data": {
      "text/html": [
       "<div>\n",
       "<style scoped>\n",
       "    .dataframe tbody tr th:only-of-type {\n",
       "        vertical-align: middle;\n",
       "    }\n",
       "\n",
       "    .dataframe tbody tr th {\n",
       "        vertical-align: top;\n",
       "    }\n",
       "\n",
       "    .dataframe thead th {\n",
       "        text-align: right;\n",
       "    }\n",
       "</style>\n",
       "<table border=\"1\" class=\"dataframe\">\n",
       "  <thead>\n",
       "    <tr style=\"text-align: right;\">\n",
       "      <th></th>\n",
       "      <th>Amount ($)</th>\n",
       "      <th>Hours Worked</th>\n",
       "      <th>Hourly Rate</th>\n",
       "    </tr>\n",
       "    <tr>\n",
       "      <th>Client</th>\n",
       "      <th></th>\n",
       "      <th></th>\n",
       "      <th></th>\n",
       "    </tr>\n",
       "  </thead>\n",
       "  <tbody>\n",
       "    <tr>\n",
       "      <th>Acme Inc.</th>\n",
       "      <td>1500</td>\n",
       "      <td>25</td>\n",
       "      <td>60.0</td>\n",
       "    </tr>\n",
       "    <tr>\n",
       "      <th>Globex</th>\n",
       "      <td>900</td>\n",
       "      <td>15</td>\n",
       "      <td>60.0</td>\n",
       "    </tr>\n",
       "    <tr>\n",
       "      <th>Umbrella</th>\n",
       "      <td>400</td>\n",
       "      <td>4</td>\n",
       "      <td>100.0</td>\n",
       "    </tr>\n",
       "  </tbody>\n",
       "</table>\n",
       "</div>"
      ],
      "text/plain": [
       "           Amount ($)  Hours Worked  Hourly Rate\n",
       "Client                                          \n",
       "Acme Inc.        1500            25         60.0\n",
       "Globex            900            15         60.0\n",
       "Umbrella          400             4        100.0"
      ]
     },
     "execution_count": 108,
     "metadata": {},
     "output_type": "execute_result"
    }
   ],
   "source": [
    "import pandas as pd\n",
    "\n",
    "\n",
    "data = pd.read_csv(\"invoices.csv\")\n",
    "\n",
    "# Transform the entire Date column type to a type of: datetime\n",
    "data['Date'] = pd.to_datetime(data['Date'])\n",
    "\n",
    "# Transform the Amount and Hours Worked column into a numberic type\n",
    "data['Amount ($)'] = pd.to_numeric(data['Amount ($)'])\n",
    "data['Hours Worked'] = pd.to_numeric(data['Hours Worked'])\n",
    "\n",
    "# Add a new column to the end of the data\n",
    "data['Hourly Rate'] = data['Amount ($)'] / data['Hours Worked']\n",
    "\n",
    "#Remove any missing data\n",
    "data.dropna(inplace=True)\n",
    "\n",
    "#Generate usefull information\n",
    "\n",
    "summary = data.groupby(\"Client\").agg({\n",
    "    \"Amount ($)\": \"sum\",\n",
    "    \"Hours Worked\": \"sum\",\n",
    "    \"Hourly Rate\": \"mean\"\n",
    "}).rename({\n",
    "    \"Amount ($)\": 'Total Amount',\n",
    "    \"Hours Worked\": \"Total Hours\",\n",
    "    \"Hourly Rate\": \"Avg Rate\"\n",
    "})\n",
    "\n",
    "summary"
   ]
  },
  {
   "cell_type": "code",
   "execution_count": 109,
   "id": "5361591b-64fd-49ab-89df-93fd730f4493",
   "metadata": {},
   "outputs": [],
   "source": [
    "data.to_csv('cleaned_invoices.csv', index=False)\n",
    "summary.to_csv('summary.csv')\n"
   ]
  },
  {
   "cell_type": "code",
   "execution_count": null,
   "id": "d53ebd2e-dcc4-41f2-9bf7-5dbae5229949",
   "metadata": {},
   "outputs": [],
   "source": []
  }
 ],
 "metadata": {
  "kernelspec": {
   "display_name": "Python 3 (ipykernel)",
   "language": "python",
   "name": "python3"
  },
  "language_info": {
   "codemirror_mode": {
    "name": "ipython",
    "version": 3
   },
   "file_extension": ".py",
   "mimetype": "text/x-python",
   "name": "python",
   "nbconvert_exporter": "python",
   "pygments_lexer": "ipython3",
   "version": "3.13.3"
  }
 },
 "nbformat": 4,
 "nbformat_minor": 5
}
